{
 "cells": [
  {
   "cell_type": "code",
   "execution_count": 1,
   "id": "24d31254",
   "metadata": {},
   "outputs": [],
   "source": [
    "import pandas as pd\n",
    "import numpy as np\n",
    "import string"
   ]
  },
  {
   "cell_type": "markdown",
   "id": "0307619f",
   "metadata": {},
   "source": [
    "## Read the data"
   ]
  },
  {
   "cell_type": "code",
   "execution_count": 2,
   "id": "5b0321ff",
   "metadata": {},
   "outputs": [],
   "source": [
    "df = pd.read_excel('all.xlsx')"
   ]
  },
  {
   "cell_type": "code",
   "execution_count": 3,
   "id": "8480cae2",
   "metadata": {},
   "outputs": [],
   "source": [
    "bookBuzz = pd.DataFrame()\n",
    "egbook = pd.DataFrame()"
   ]
  },
  {
   "cell_type": "markdown",
   "id": "7ac41632",
   "metadata": {},
   "source": [
    "## Separate authors"
   ]
  },
  {
   "cell_type": "code",
   "execution_count": 4,
   "id": "ae50da8f",
   "metadata": {},
   "outputs": [],
   "source": [
    "\n",
    "num_of_splits_coulmns = len(df[\"المؤلف\"].apply(lambda x: pd.Series(str(x).split(\",\"))).columns)\n",
    "\n",
    "df[[ f'المؤلف{i}' for i in range(num_of_splits_coulmns)]] = df[\"المؤلف\"].apply(lambda x: pd.Series(str(x).split(\",\")))\n"
   ]
  },
  {
   "cell_type": "markdown",
   "id": "955e8fc0",
   "metadata": {},
   "source": [
    "## Creat Handle For :"
   ]
  },
  {
   "cell_type": "code",
   "execution_count": 5,
   "id": "c0dd24b6",
   "metadata": {},
   "outputs": [],
   "source": [
    "df['اسم الكتاب'] = df['اسم الكتاب'].apply(lambda x : str(x))"
   ]
  },
  {
   "cell_type": "code",
   "execution_count": 6,
   "id": "cf3337f2",
   "metadata": {},
   "outputs": [],
   "source": [
    "\n",
    "title_for_handle = df['اسم الكتاب'].apply(lambda x :x.translate(str.maketrans(\"\",\"\", string.punctuation)).strip().replace('  ',\n",
    "                                                                        ' ').replace('\\xa0','').replace(' ','-'))\n",
    "\n",
    "# BookBuzz\n",
    "\n",
    "bookBuzz['Handle'] = (title_for_handle + '-' + df['المؤلف0'].apply(lambda x : x.replace(' ','-'))+ '-' +df['دار النشر'].apply(lambda x : str(x).replace(' ','-')) + '-bookbuzz-store').apply(\n",
    "                                                                    lambda x : str(x).replace('-nan-','-'))\n",
    "# EGBookFair\n",
    "\n",
    "egbook['Handle'] = bookBuzz['Handle'].apply(lambda x : x.replace('-bookbuzz-store','-المعرض-المصري-للكتاب-egbookfair'))\n"
   ]
  },
  {
   "cell_type": "code",
   "execution_count": 7,
   "id": "c1c061c1",
   "metadata": {},
   "outputs": [
    {
     "data": {
      "text/plain": [
       "'حكايات-كليلة-ودمنة-الأرنب-وملك-الأفيال-نيو-هورايزون-للنشر-والتوزيع-المعرض-المصري-للكتاب-egbookfair'"
      ]
     },
     "execution_count": 7,
     "metadata": {},
     "output_type": "execute_result"
    }
   ],
   "source": [
    "egbook['Handle'][0]"
   ]
  },
  {
   "cell_type": "markdown",
   "id": "794b6a31",
   "metadata": {},
   "source": [
    "## Titels"
   ]
  },
  {
   "cell_type": "code",
   "execution_count": 8,
   "id": "5dc954a3",
   "metadata": {},
   "outputs": [],
   "source": [
    "\n",
    "bookBuzz['Title'] = df['اسم الكتاب']\n",
    "\n",
    "egbook['Title'] = df['اسم الكتاب']"
   ]
  },
  {
   "cell_type": "markdown",
   "id": "8b9d6b9c",
   "metadata": {},
   "source": [
    "## Body"
   ]
  },
  {
   "cell_type": "code",
   "execution_count": 9,
   "id": "0849f2fb",
   "metadata": {},
   "outputs": [],
   "source": [
    "def nan_remover(x) :\n",
    "    if str(x) == 'nan' :\n",
    "        x = ''\n",
    "    return x"
   ]
  },
  {
   "cell_type": "markdown",
   "id": "d0fae1db",
   "metadata": {},
   "source": [
    "#### Name for body"
   ]
  },
  {
   "cell_type": "code",
   "execution_count": 10,
   "id": "50131522",
   "metadata": {},
   "outputs": [],
   "source": [
    "def body_name(x) :\n",
    "    if 'كتاب' in x.split()[0] :\n",
    "        x = x\n",
    "        \n",
    "    elif 'مجلد' in x.split()[0] :\n",
    "        x = x\n",
    "        \n",
    "    else :\n",
    "        x = 'كتاب ' + x\n",
    "        \n",
    "    return x"
   ]
  },
  {
   "cell_type": "code",
   "execution_count": 11,
   "id": "4f416263",
   "metadata": {},
   "outputs": [],
   "source": [
    "book_name = df['اسم الكتاب'].apply(body_name).apply(nan_remover)"
   ]
  },
  {
   "cell_type": "markdown",
   "id": "bbd14b18",
   "metadata": {},
   "source": [
    "#### Author for body"
   ]
  },
  {
   "cell_type": "code",
   "execution_count": 12,
   "id": "47e6ad0c",
   "metadata": {},
   "outputs": [],
   "source": [
    "def body_author(x) :\n",
    "    if x == 'nan' :\n",
    "        x = np.nan\n",
    "    else :\n",
    "        x = 'المؤلف: ' + x\n",
    "    return x"
   ]
  },
  {
   "cell_type": "code",
   "execution_count": 13,
   "id": "99a2f46d",
   "metadata": {},
   "outputs": [],
   "source": [
    "author_name = df['المؤلف0'].apply(body_author).apply(nan_remover)"
   ]
  },
  {
   "cell_type": "markdown",
   "id": "3594e370",
   "metadata": {},
   "source": [
    "#### Translator"
   ]
  },
  {
   "cell_type": "code",
   "execution_count": 14,
   "id": "649696c7",
   "metadata": {},
   "outputs": [],
   "source": [
    "def body_trans(x) :\n",
    "    if str(x) == 'nan' :\n",
    "        x = np.nan\n",
    "    else :\n",
    "        x = 'ترجمة: ' + x\n",
    "    return x"
   ]
  },
  {
   "cell_type": "code",
   "execution_count": 15,
   "id": "4f108af8",
   "metadata": {},
   "outputs": [],
   "source": [
    "trans_name = df['الترجمة'].apply(body_trans).apply(nan_remover)"
   ]
  },
  {
   "cell_type": "markdown",
   "id": "d246ee14",
   "metadata": {},
   "source": [
    "#### Get all of them together"
   ]
  },
  {
   "cell_type": "code",
   "execution_count": 16,
   "id": "3d3b6e8c",
   "metadata": {},
   "outputs": [],
   "source": [
    "bookBuzz['Body (HTML)']= book_name + '\\n' + author_name + '\\n' + trans_name + '\\n' + df['الوصف'].apply(nan_remover)\n",
    "\n",
    "egbook['Body (HTML)'] = bookBuzz['Body (HTML)']"
   ]
  },
  {
   "cell_type": "markdown",
   "id": "a5737e1d",
   "metadata": {},
   "source": [
    "## Vendor"
   ]
  },
  {
   "cell_type": "code",
   "execution_count": 17,
   "id": "b0e15848",
   "metadata": {},
   "outputs": [],
   "source": [
    "bookBuzz['Vendor'] = df['دار النشر']\n",
    "egbook['Vendor'] = df['دار النشر']"
   ]
  },
  {
   "cell_type": "markdown",
   "id": "adc51dbb",
   "metadata": {},
   "source": [
    "## Product Category"
   ]
  },
  {
   "cell_type": "code",
   "execution_count": 18,
   "id": "1ffc708d",
   "metadata": {},
   "outputs": [],
   "source": [
    "bookBuzz['Product Category'] = np.nan\n",
    "egbook['Product Category'] = np.nan"
   ]
  },
  {
   "cell_type": "markdown",
   "id": "e1ef4fa7",
   "metadata": {},
   "source": [
    "## Type"
   ]
  },
  {
   "cell_type": "code",
   "execution_count": 19,
   "id": "be572088",
   "metadata": {},
   "outputs": [],
   "source": [
    "bookBuzz['Type'] = df['التصنيف']\n",
    "egbook['Type'] = df['التصنيف']"
   ]
  },
  {
   "cell_type": "markdown",
   "id": "cccebf2a",
   "metadata": {},
   "source": [
    "## Tags"
   ]
  },
  {
   "cell_type": "code",
   "execution_count": 20,
   "id": "e70236e5",
   "metadata": {},
   "outputs": [],
   "source": [
    "bookBuzz['Tags'] = np.nan\n",
    "egbook['Tags'] = np.nan"
   ]
  },
  {
   "cell_type": "markdown",
   "id": "f367a56d",
   "metadata": {},
   "source": [
    "## Published"
   ]
  },
  {
   "cell_type": "code",
   "execution_count": 21,
   "id": "cafc5b51",
   "metadata": {},
   "outputs": [],
   "source": [
    "bookBuzz['Published'] = 'TRUE'\n",
    "egbook['Published'] = 'TRUE'"
   ]
  },
  {
   "cell_type": "markdown",
   "id": "da237c73",
   "metadata": {},
   "source": [
    "## Option Names and Values"
   ]
  },
  {
   "cell_type": "code",
   "execution_count": 22,
   "id": "7ab15449",
   "metadata": {},
   "outputs": [],
   "source": [
    "bookBuzz['Option1 Name'] = 'Title'\n",
    "egbook['Option1 Name'] = 'Title'\n",
    "\n",
    "bookBuzz['Option1 Value'] = 'Default Title'\n",
    "egbook['Option1 Value'] = 'Default Title'"
   ]
  },
  {
   "cell_type": "code",
   "execution_count": 23,
   "id": "ea7d8447",
   "metadata": {},
   "outputs": [],
   "source": [
    "bookBuzz['Option2 Name'] = np.nan\n",
    "egbook['Option2 Name'] = np.nan\n",
    "\n",
    "bookBuzz['Option2 Value'] = np.nan\n",
    "egbook['Option2 Value'] = np.nan"
   ]
  },
  {
   "cell_type": "code",
   "execution_count": 24,
   "id": "ddd5256c",
   "metadata": {},
   "outputs": [],
   "source": [
    "bookBuzz['Option3 Name'] = np.nan\n",
    "egbook['Option3 Name'] = np.nan\n",
    "\n",
    "bookBuzz['Option3 Value'] = np.nan\n",
    "egbook['Option3 Value'] = np.nan"
   ]
  },
  {
   "cell_type": "markdown",
   "id": "c7fb2e98",
   "metadata": {},
   "source": [
    "## Variant SKU"
   ]
  },
  {
   "cell_type": "code",
   "execution_count": 25,
   "id": "a6c3a330",
   "metadata": {},
   "outputs": [],
   "source": [
    "bookBuzz['Variant SKU'] = df['SKU']\n",
    "egbook['Variant SKU'] = df['SKU']"
   ]
  },
  {
   "cell_type": "markdown",
   "id": "5a37c8d9",
   "metadata": {},
   "source": [
    "## Variant Grams"
   ]
  },
  {
   "cell_type": "code",
   "execution_count": 26,
   "id": "1f0803b9",
   "metadata": {},
   "outputs": [],
   "source": [
    "def weight_fun(x) :\n",
    "    if 'مجلد' in x :\n",
    "        return 700\n",
    "    else :\n",
    "        return 500"
   ]
  },
  {
   "cell_type": "code",
   "execution_count": 27,
   "id": "8c6fdff7",
   "metadata": {},
   "outputs": [],
   "source": [
    "bookBuzz['Variant Grams'] = df['وزن']\n",
    "egbook['Variant Grams'] = df['وزن']"
   ]
  },
  {
   "cell_type": "markdown",
   "id": "9f288083",
   "metadata": {},
   "source": [
    "## Variant Inventory Tracker"
   ]
  },
  {
   "cell_type": "code",
   "execution_count": 28,
   "id": "e5985f85",
   "metadata": {},
   "outputs": [],
   "source": [
    "bookBuzz['Variant Inventory Tracker'] = 'shopify'\n",
    "egbook['Variant Inventory Tracker'] = 'shopify'"
   ]
  },
  {
   "cell_type": "markdown",
   "id": "221d96f0",
   "metadata": {},
   "source": [
    "## Variant Inventory Qty"
   ]
  },
  {
   "cell_type": "code",
   "execution_count": 29,
   "id": "c00430d0",
   "metadata": {},
   "outputs": [],
   "source": [
    "def qty_for_bookbuzz(x) :\n",
    "    if x == 1 :\n",
    "        x = 0\n",
    "    elif x < 3 :\n",
    "        x = 1\n",
    "    else :\n",
    "        x = 2\n",
    "    return x"
   ]
  },
  {
   "cell_type": "code",
   "execution_count": 30,
   "id": "27a5a71e",
   "metadata": {},
   "outputs": [],
   "source": [
    "bookBuzz['Variant Inventory Qty'] = df['العدد'].apply(qty_for_bookbuzz)"
   ]
  },
  {
   "cell_type": "code",
   "execution_count": null,
   "id": "2fb0612e",
   "metadata": {},
   "outputs": [],
   "source": []
  },
  {
   "cell_type": "code",
   "execution_count": 31,
   "id": "14de0385",
   "metadata": {},
   "outputs": [],
   "source": [
    "def qty_for_egbookfair(x) :\n",
    "    if x == 1 :\n",
    "        x = x\n",
    "    elif x < 3 :\n",
    "        x = x - 1\n",
    "    else :\n",
    "        x = x - 2\n",
    "    return x"
   ]
  },
  {
   "cell_type": "code",
   "execution_count": 32,
   "id": "dee40fa2",
   "metadata": {},
   "outputs": [],
   "source": [
    "egbook['Variant Inventory Qty'] = df['العدد'].apply(qty_for_egbookfair)"
   ]
  },
  {
   "cell_type": "code",
   "execution_count": null,
   "id": "09e7f09c",
   "metadata": {},
   "outputs": [],
   "source": []
  },
  {
   "cell_type": "markdown",
   "id": "c43c0d86",
   "metadata": {},
   "source": [
    "## Variant Inventory Policy"
   ]
  },
  {
   "cell_type": "code",
   "execution_count": 33,
   "id": "b7de973a",
   "metadata": {},
   "outputs": [],
   "source": [
    "bookBuzz['Variant Inventory Policy'] = 'deny'\n",
    "egbook['Variant Inventory Policy'] = 'deny'"
   ]
  },
  {
   "cell_type": "markdown",
   "id": "9ac92c94",
   "metadata": {},
   "source": [
    "## Variant Fulfillment Service"
   ]
  },
  {
   "cell_type": "code",
   "execution_count": 34,
   "id": "d6386850",
   "metadata": {},
   "outputs": [],
   "source": [
    "bookBuzz['Variant Fulfillment Service'] = 'manual'\n",
    "egbook['Variant Fulfillment Service'] = 'manual'"
   ]
  },
  {
   "cell_type": "markdown",
   "id": "4dffae9f",
   "metadata": {},
   "source": [
    "## Variant Price"
   ]
  },
  {
   "cell_type": "code",
   "execution_count": 35,
   "id": "1f09c7f6",
   "metadata": {},
   "outputs": [],
   "source": [
    "bookBuzz['Variant Price'] = np.nan\n",
    "egbook['Variant Price'] = np.nan"
   ]
  },
  {
   "cell_type": "markdown",
   "id": "473baafc",
   "metadata": {},
   "source": [
    "## Variant Compare At Price"
   ]
  },
  {
   "cell_type": "code",
   "execution_count": 36,
   "id": "b75ed400",
   "metadata": {},
   "outputs": [],
   "source": [
    "bookBuzz['Variant Compare At Price'] = df['السعر']\n",
    "egbook['Variant Compare At Price'] = df['السعر']"
   ]
  },
  {
   "cell_type": "markdown",
   "id": "186e3272",
   "metadata": {},
   "source": [
    "## Variant Requires Shipping"
   ]
  },
  {
   "cell_type": "code",
   "execution_count": 37,
   "id": "6b604158",
   "metadata": {},
   "outputs": [],
   "source": [
    "bookBuzz['Variant Requires Shipping'] = 'TRUE'\n",
    "egbook['Variant Requires Shipping'] = 'TRUE'"
   ]
  },
  {
   "cell_type": "markdown",
   "id": "25ff4533",
   "metadata": {},
   "source": [
    "## Variant Taxable"
   ]
  },
  {
   "cell_type": "code",
   "execution_count": 38,
   "id": "d79eb21a",
   "metadata": {},
   "outputs": [],
   "source": [
    "bookBuzz['Variant Taxable'] = 'TRUE'\n",
    "egbook['Variant Taxable'] = 'TRUE'"
   ]
  },
  {
   "cell_type": "markdown",
   "id": "c2026498",
   "metadata": {},
   "source": [
    "## Variant Barcode"
   ]
  },
  {
   "cell_type": "code",
   "execution_count": 39,
   "id": "6cb8bf9d",
   "metadata": {},
   "outputs": [],
   "source": [
    "bookBuzz['Variant Barcode'] = np.nan\n",
    "egbook['Variant Barcode'] = np.nan"
   ]
  },
  {
   "cell_type": "markdown",
   "id": "a94a1698",
   "metadata": {},
   "source": [
    "## Image Src"
   ]
  },
  {
   "cell_type": "code",
   "execution_count": 40,
   "id": "b0da6308",
   "metadata": {},
   "outputs": [],
   "source": [
    "bookBuzz['Image Src'] = df['الصورة']\n",
    "egbook['Image Src'] = df['الصورة']"
   ]
  },
  {
   "cell_type": "markdown",
   "id": "fcf123e7",
   "metadata": {},
   "source": [
    "## Image Position"
   ]
  },
  {
   "cell_type": "code",
   "execution_count": 41,
   "id": "62b2b685",
   "metadata": {},
   "outputs": [],
   "source": [
    "bookBuzz['Image Position'] = 1\n",
    "egbook['Image Position'] = 1"
   ]
  },
  {
   "cell_type": "markdown",
   "id": "d7c158fa",
   "metadata": {},
   "source": [
    "## Image Alt Text"
   ]
  },
  {
   "cell_type": "code",
   "execution_count": 42,
   "id": "40634ab1",
   "metadata": {},
   "outputs": [],
   "source": [
    "egbook['Image Alt Text'] = (df['اسم الكتاب'] + ' ' + df['المؤلف0'] .apply(nan_remover) +  ' | المعرض المصري للكتاب EGBookFair').apply(lambda x :x.replace('  ',' '))\n",
    "bookBuzz['Image Alt Text'] = (df['اسم الكتاب'] + ' ' + df['المؤلف0'] .apply(nan_remover) +  ' | BookBuzz.Store').apply(lambda x :x.replace('  ',' '))\n"
   ]
  },
  {
   "cell_type": "markdown",
   "id": "de815772",
   "metadata": {},
   "source": [
    "## Gift Card"
   ]
  },
  {
   "cell_type": "code",
   "execution_count": 43,
   "id": "c545f6bf",
   "metadata": {},
   "outputs": [],
   "source": [
    "bookBuzz['Gift Card'] = 'FALSE'\n",
    "egbook['Gift Card'] = 'FALSE'"
   ]
  },
  {
   "cell_type": "markdown",
   "id": "0c9810f8",
   "metadata": {},
   "source": [
    "## SEO Title"
   ]
  },
  {
   "cell_type": "code",
   "execution_count": 44,
   "id": "ffb2fbff",
   "metadata": {},
   "outputs": [],
   "source": [
    "egbook['SEO Title'] = (df['اسم الكتاب'] + ' ' + df['المؤلف0'] .apply(nan_remover) +  ' | المعرض المصري للكتاب EGBookFair').apply(lambda x :x.replace('  ',' '))\n",
    "bookBuzz['SEO Title'] = (df['اسم الكتاب'] + ' ' + df['المؤلف0'] .apply(nan_remover) +  ' | BookBuzz.Store').apply(lambda x :x.replace('  ',' '))\n"
   ]
  },
  {
   "cell_type": "markdown",
   "id": "2674a7c4",
   "metadata": {},
   "source": [
    "## SEO Description"
   ]
  },
  {
   "cell_type": "code",
   "execution_count": 45,
   "id": "22c33be5",
   "metadata": {},
   "outputs": [],
   "source": [
    "part1_of_des = (book_name + ' ' + author_name + ' ' + trans_name + ' ' + df['دار النشر']).apply(lambda x : x.replace('  ',\n",
    "                                                                                    ' ').replace('  ',' ').replace('  ',' '))\n",
    "\n",
    "part2_of_des = (part1_of_des + df['الوصف']).apply(lambda x : str(x)[0:320])"
   ]
  },
  {
   "cell_type": "code",
   "execution_count": 46,
   "id": "a5de79c6",
   "metadata": {},
   "outputs": [],
   "source": [
    "bookBuzz['SEO Description'] = part2_of_des\n",
    "egbook['SEO Description'] = part2_of_des"
   ]
  },
  {
   "cell_type": "code",
   "execution_count": null,
   "id": "9b73bb8d",
   "metadata": {},
   "outputs": [],
   "source": []
  },
  {
   "cell_type": "markdown",
   "id": "3638419d",
   "metadata": {},
   "source": [
    "## Google Shopping"
   ]
  },
  {
   "cell_type": "code",
   "execution_count": 47,
   "id": "2a278e83",
   "metadata": {},
   "outputs": [],
   "source": [
    "bookBuzz['Google Shopping / Google Product Category'] = np.nan\n",
    "egbook['Google Shopping / Google Product Category'] = np.nan\n",
    "\n",
    "bookBuzz['Google Shopping / Gender'] = np.nan\n",
    "egbook['Google Shopping / Gender'] = np.nan\n",
    "\n",
    "bookBuzz['Google Shopping / Age Group'] = np.nan\n",
    "egbook['Google Shopping / Age Group'] = np.nan\n",
    "\n",
    "bookBuzz['Google Shopping / MPN'] = np.nan\n",
    "egbook['Google Shopping / MPN'] = np.nan\n",
    "\n",
    "bookBuzz['Google Shopping / AdWords Grouping'] = np.nan\n",
    "egbook['Google Shopping / AdWords Grouping'] = np.nan\n",
    "\n",
    "bookBuzz['Google Shopping / AdWords Labels'] = np.nan\n",
    "egbook['Google Shopping / AdWords Labels'] = np.nan\n",
    "\n",
    "bookBuzz['Google Shopping / Condition'] = np.nan\n",
    "egbook['Google Shopping / Condition'] = np.nan\n",
    "\n",
    "bookBuzz['Google Shopping / Custom Product'] = np.nan\n",
    "egbook['Google Shopping / Custom Product'] = np.nan\n",
    "\n",
    "bookBuzz['Google Shopping / Custom Label 0'] = np.nan\n",
    "egbook['Google Shopping / Custom Label 0'] = np.nan\n",
    "\n",
    "bookBuzz['Google Shopping / Custom Label 1'] = np.nan\n",
    "egbook['Google Shopping / Custom Label 1'] = np.nan\n",
    "\n",
    "bookBuzz['Google Shopping / Custom Label 2'] = np.nan\n",
    "egbook['Google Shopping / Custom Label 2'] = np.nan\n",
    "\n",
    "bookBuzz['Google Shopping / Custom Label 3'] = np.nan\n",
    "egbook['Google Shopping / Custom Label 3'] = np.nan\n",
    "\n",
    "bookBuzz['Google Shopping / Custom Label 4'] = np.nan\n",
    "egbook['Google Shopping / Custom Label 4'] = np.nan\n"
   ]
  },
  {
   "cell_type": "markdown",
   "id": "2bd5d384",
   "metadata": {},
   "source": [
    "## Variant Image"
   ]
  },
  {
   "cell_type": "code",
   "execution_count": 48,
   "id": "65080421",
   "metadata": {},
   "outputs": [],
   "source": [
    "bookBuzz['Variant Image'] = np.nan\n",
    "egbook['Variant Image'] = np.nan"
   ]
  },
  {
   "cell_type": "markdown",
   "id": "28ac2161",
   "metadata": {},
   "source": [
    "## Variant Weight Unit"
   ]
  },
  {
   "cell_type": "code",
   "execution_count": 49,
   "id": "2179e7b2",
   "metadata": {},
   "outputs": [],
   "source": [
    "bookBuzz['Variant Weight Unit'] = 'kg' \n",
    "egbook['Variant Weight Unit'] = 'kg'"
   ]
  },
  {
   "cell_type": "markdown",
   "id": "213543b5",
   "metadata": {},
   "source": [
    "## Variant Tax Code"
   ]
  },
  {
   "cell_type": "code",
   "execution_count": 50,
   "id": "be3babf8",
   "metadata": {},
   "outputs": [],
   "source": [
    "bookBuzz['Variant Tax Code'] = np.nan\n",
    "egbook['Variant Tax Code'] = np.nan"
   ]
  },
  {
   "cell_type": "markdown",
   "id": "5d4433f9",
   "metadata": {},
   "source": [
    "## Cost per item"
   ]
  },
  {
   "cell_type": "code",
   "execution_count": 51,
   "id": "57656967",
   "metadata": {},
   "outputs": [],
   "source": [
    "bookBuzz['Cost per item'] = df['السعر']\n",
    "egbook['Cost per item'] = df['السعر']"
   ]
  },
  {
   "cell_type": "markdown",
   "id": "50a26800",
   "metadata": {},
   "source": [
    "## Included / مصر"
   ]
  },
  {
   "cell_type": "code",
   "execution_count": 52,
   "id": "4bdfee1c",
   "metadata": {},
   "outputs": [],
   "source": [
    "bookBuzz['Included / مصر'] = 'TRUE'\n",
    "egbook['Included / مصر'] = 'TRUE'"
   ]
  },
  {
   "cell_type": "markdown",
   "id": "90665fdd",
   "metadata": {},
   "source": [
    "## Included / International"
   ]
  },
  {
   "cell_type": "code",
   "execution_count": 53,
   "id": "77a294af",
   "metadata": {},
   "outputs": [],
   "source": [
    "bookBuzz['Included / International'] = 'TRUE'\n",
    "egbook['Included / International'] = 'TRUE'"
   ]
  },
  {
   "cell_type": "markdown",
   "id": "fb89ada4",
   "metadata": {},
   "source": [
    "## Price / International"
   ]
  },
  {
   "cell_type": "code",
   "execution_count": 54,
   "id": "a8c8dd64",
   "metadata": {},
   "outputs": [],
   "source": [
    "bookBuzz['Price / International'] = np.nan\n",
    "egbook['Price / International'] = np.nan"
   ]
  },
  {
   "cell_type": "markdown",
   "id": "1180956d",
   "metadata": {},
   "source": [
    "## Compare At Price / International"
   ]
  },
  {
   "cell_type": "code",
   "execution_count": 55,
   "id": "50273497",
   "metadata": {},
   "outputs": [],
   "source": [
    "bookBuzz['Compare At Price / International'] = np.nan\n",
    "egbook['Compare At Price / International'] = np.nan"
   ]
  },
  {
   "cell_type": "markdown",
   "id": "d69225e9",
   "metadata": {},
   "source": [
    "## Status"
   ]
  },
  {
   "cell_type": "code",
   "execution_count": 56,
   "id": "42a35d27",
   "metadata": {},
   "outputs": [],
   "source": [
    "bookBuzz['Status'] = 'active'\n",
    "egbook['Status'] = 'active'"
   ]
  },
  {
   "cell_type": "code",
   "execution_count": null,
   "id": "586656be",
   "metadata": {},
   "outputs": [],
   "source": []
  },
  {
   "cell_type": "code",
   "execution_count": null,
   "id": "d813f1fc",
   "metadata": {},
   "outputs": [],
   "source": []
  },
  {
   "cell_type": "code",
   "execution_count": 57,
   "id": "c548f177",
   "metadata": {},
   "outputs": [],
   "source": [
    "bookBuzz.to_excel('BookBuzz ready to upload.xlsx',index=False)\n",
    "\n",
    "egbook.to_excel('EGBookFair ready to upload.xlsx',index=False)"
   ]
  }
 ],
 "metadata": {
  "kernelspec": {
   "display_name": "Python 3 (ipykernel)",
   "language": "python",
   "name": "python3"
  },
  "language_info": {
   "codemirror_mode": {
    "name": "ipython",
    "version": 3
   },
   "file_extension": ".py",
   "mimetype": "text/x-python",
   "name": "python",
   "nbconvert_exporter": "python",
   "pygments_lexer": "ipython3",
   "version": "3.10.9"
  }
 },
 "nbformat": 4,
 "nbformat_minor": 5
}
